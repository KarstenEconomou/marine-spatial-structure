{
 "cells": [
  {
   "cell_type": "markdown",
   "id": "c24248b5",
   "metadata": {},
   "source": [
    "# Creating a SDM grid\n",
    "This Notebook creates a grid indicating suitability of habitat from a species distribution model.\n",
    "\n",
    "We use three genetic subpopulations of *Placopecten magellanicus* according to three different species distribution models, one for each subpopulation. The suitability over the whole domain for each subpopulation must be distinctly mapped."
   ]
  },
  {
   "cell_type": "code",
   "execution_count": 1,
   "id": "09c567f0",
   "metadata": {
    "scrolled": true
   },
   "outputs": [],
   "source": [
    "import pickle\n",
    "import sys\n",
    "from pathlib import Path\n",
    "\n",
    "import rasterio as rs\n",
    "import numpy as np\n",
    "from rasterio.plot import show\n",
    "from IPython.core.display import display\n",
    "\n",
    "sys.path.insert(1, str(Path.cwd() / 'utils'))\n",
    "from geneticlineage import GeneticLineage  # noqa: E402\n",
    "from zone import Zone  # noqa: E402"
   ]
  },
  {
   "cell_type": "code",
   "execution_count": 2,
   "id": "ed4df86b",
   "metadata": {
    "scrolled": true
   },
   "outputs": [
    {
     "data": {
      "image/png": "[encoded data removed]",
      "text/plain": [
       "<Figure size 432x288 with 1 Axes>"
      ]
     },
     "metadata": {
      "needs_background": "light"
     },
     "output_type": "display_data"
    },
    {
     "name": "stdout",
     "output_type": "stream",
     "text": [
      "BoundingBox(left=-77.25509557699999, bottom=33.690644312, right=-51.82509557699999, top=54.690644312)\n",
      "shape: (2100, 2543)\n"
     ]
    }
   ],
   "source": [
    "# Read probabilistic SDM\n",
    "with rs.open(Path.cwd() / 'data' / 'sdm' / 'scallop_mosaic.tif') as sdm:\n",
    "    show(sdm)\n",
    "    \n",
    "    probability = sdm.read(1)\n",
    "    RES, _ = sdm.res\n",
    "    \n",
    "    bound = sdm.bounds\n",
    "    print(bound)\n",
    "    \n",
    "    lon_cells = np.arange(bound.left + RES, bound.right, RES)\n",
    "    lat_cells = np.arange(bound.top - RES, bound.bottom, -RES)\n",
    "    \n",
    "    print(f'shape: {sdm.shape}')"
   ]
  },
  {
   "cell_type": "code",
   "execution_count": 3,
   "id": "966f4e31",
   "metadata": {
    "pycharm": {
     "name": "#%%\n"
    }
   },
   "outputs": [],
   "source": [
    "# Define genetic zone characteristics\n",
    "path = Path.cwd() / 'data' / 'zones'\n",
    "zones = {\n",
    "    Zone.SOUTH: GeneticLineage.from_file(Zone.SOUTH, 0.42, path / f'{Zone.SOUTH.name}.txt'),\n",
    "    Zone.NORTH_GSL: GeneticLineage.from_file(Zone.NORTH_GSL, 0.25, path / f'{Zone.NORTH_GSL.name}.txt'),\n",
    "    Zone.NORTH_NL: GeneticLineage.from_file(Zone.NORTH_NL, 0.63, path / f'{Zone.NORTH_NL.name}.txt'),\n",
    "}"
   ]
  },
  {
   "cell_type": "code",
   "execution_count": 4,
   "id": "e6ca6f8e",
   "metadata": {
    "pycharm": {
     "name": "#%%\n"
    }
   },
   "outputs": [],
   "source": [
    "lon_index = dict((lon, i) for i, lon in enumerate(lon_cells))\n",
    "lat_index = dict((lat, i) for i, lat in enumerate(lat_cells))\n",
    "\n",
    "\n",
    "def get_cell_suitability(genetic_zone: GeneticLineage, lon: float, lat: float) -> int:\n",
    "    \"\"\"Determine if a cell is suitable habitat.\"\"\"\n",
    "    if genetic_zone.contains(lon, lat):\n",
    "        # Within spawn region\n",
    "        if probability[lat_index[lat], lon_index[lon]] >= genetic_zone.prob:\n",
    "            # Habitat is suitable\n",
    "            return 1\n",
    "        else:\n",
    "            # Habitat is unsuitable\n",
    "            return 0\n",
    "    else:\n",
    "        # Outside of spawn region\n",
    "        return 0\n",
    "\n",
    "\n",
    "lons, lats = list(zip(*[(lon, lat) for lat in lat_cells for lon in lon_cells]))\n",
    "for zone in zones.values():\n",
    "    codes = [get_cell_suitability(zone, lon, lat) for lon, lat in zip(lons, lats)]\n",
    "    zone.associate_sdm(codes, lons, lats)"
   ]
  },
  {
   "cell_type": "code",
   "execution_count": 5,
   "id": "6a97f9d5",
   "metadata": {
    "pycharm": {
     "name": "#%%\n"
    }
   },
   "outputs": [
    {
     "data": {
      "text/html": [
       "<div>\n",
       "<style scoped>\n",
       "    .dataframe tbody tr th:only-of-type {\n",
       "        vertical-align: middle;\n",
       "    }\n",
       "\n",
       "    .dataframe tbody tr th {\n",
       "        vertical-align: top;\n",
       "    }\n",
       "\n",
       "    .dataframe thead th {\n",
       "        text-align: right;\n",
       "    }\n",
       "</style>\n",
       "<table border=\"1\" class=\"dataframe\">\n",
       "  <thead>\n",
       "    <tr style=\"text-align: right;\">\n",
       "      <th></th>\n",
       "      <th>code</th>\n",
       "      <th>lon</th>\n",
       "      <th>lat</th>\n",
       "    </tr>\n",
       "  </thead>\n",
       "  <tbody>\n",
       "    <tr>\n",
       "      <th>0</th>\n",
       "      <td>0</td>\n",
       "      <td>-77.245096</td>\n",
       "      <td>54.680644</td>\n",
       "    </tr>\n",
       "    <tr>\n",
       "      <th>1</th>\n",
       "      <td>0</td>\n",
       "      <td>-77.235096</td>\n",
       "      <td>54.680644</td>\n",
       "    </tr>\n",
       "    <tr>\n",
       "      <th>2</th>\n",
       "      <td>0</td>\n",
       "      <td>-77.225096</td>\n",
       "      <td>54.680644</td>\n",
       "    </tr>\n",
       "    <tr>\n",
       "      <th>3</th>\n",
       "      <td>0</td>\n",
       "      <td>-77.215096</td>\n",
       "      <td>54.680644</td>\n",
       "    </tr>\n",
       "    <tr>\n",
       "      <th>4</th>\n",
       "      <td>0</td>\n",
       "      <td>-77.205096</td>\n",
       "      <td>54.680644</td>\n",
       "    </tr>\n",
       "    <tr>\n",
       "      <th>...</th>\n",
       "      <td>...</td>\n",
       "      <td>...</td>\n",
       "      <td>...</td>\n",
       "    </tr>\n",
       "    <tr>\n",
       "      <th>5335653</th>\n",
       "      <td>0</td>\n",
       "      <td>-51.875096</td>\n",
       "      <td>33.700644</td>\n",
       "    </tr>\n",
       "    <tr>\n",
       "      <th>5335654</th>\n",
       "      <td>0</td>\n",
       "      <td>-51.865096</td>\n",
       "      <td>33.700644</td>\n",
       "    </tr>\n",
       "    <tr>\n",
       "      <th>5335655</th>\n",
       "      <td>0</td>\n",
       "      <td>-51.855096</td>\n",
       "      <td>33.700644</td>\n",
       "    </tr>\n",
       "    <tr>\n",
       "      <th>5335656</th>\n",
       "      <td>0</td>\n",
       "      <td>-51.845096</td>\n",
       "      <td>33.700644</td>\n",
       "    </tr>\n",
       "    <tr>\n",
       "      <th>5335657</th>\n",
       "      <td>0</td>\n",
       "      <td>-51.835096</td>\n",
       "      <td>33.700644</td>\n",
       "    </tr>\n",
       "  </tbody>\n",
       "</table>\n",
       "<p>5335658 rows × 3 columns</p>\n",
       "</div>"
      ],
      "text/plain": [
       "         code        lon        lat\n",
       "0           0 -77.245096  54.680644\n",
       "1           0 -77.235096  54.680644\n",
       "2           0 -77.225096  54.680644\n",
       "3           0 -77.215096  54.680644\n",
       "4           0 -77.205096  54.680644\n",
       "...       ...        ...        ...\n",
       "5335653     0 -51.875096  33.700644\n",
       "5335654     0 -51.865096  33.700644\n",
       "5335655     0 -51.855096  33.700644\n",
       "5335656     0 -51.845096  33.700644\n",
       "5335657     0 -51.835096  33.700644\n",
       "\n",
       "[5335658 rows x 3 columns]"
      ]
     },
     "metadata": {},
     "output_type": "display_data"
    }
   ],
   "source": [
    "display(zones[Zone.SOUTH].sdm)\n",
    "\n",
    "with open(Path.cwd() / 'data' / 'zones' / 'zones.pickle', 'wb') as file:\n",
    "    pickle.dump(zones, file, protocol=pickle.HIGHEST_PROTOCOL)"
   ]
  }
 ],
 "metadata": {
  "kernelspec": {
   "display_name": "Python 3",
   "language": "python",
   "name": "python3"
  },
  "language_info": {
   "codemirror_mode": {
    "name": "ipython",
    "version": 3
   },
   "file_extension": ".py",
   "mimetype": "text/x-python",
   "name": "python",
   "nbconvert_exporter": "python",
   "pygments_lexer": "ipython3",
   "version": "3.8.10"
  }
 },
 "nbformat": 4,
 "nbformat_minor": 5
}
