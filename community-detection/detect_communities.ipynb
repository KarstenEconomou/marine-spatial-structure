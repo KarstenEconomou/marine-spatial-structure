{
 "cells": [
  {
   "cell_type": "markdown",
   "id": "4b9aa474",
   "metadata": {},
   "source": [
    "# Detecting communities with *Infomap*\n",
    "This Notebook accesses the *Infomap* [Python API](https://mapequation.github.io/infomap/python/) to detect communities in the constructed flow network."
   ]
  },
  {
   "cell_type": "code",
   "execution_count": 2,
   "id": "56b08a79",
   "metadata": {},
   "outputs": [],
   "source": [
    "import sys\n",
    "from pathlib import Path\n",
    "\n",
    "import infomap\n",
    "import pandas as pd\n",
    "from IPython.core.display import display\n",
    "\n",
    "sys.path.insert(1, str(Path.cwd() / 'utils'))\n",
    "from constants import NUMBER_OF_SEEDS  # noqa: E402\n",
    "from classifications import *  # noqa: E402"
   ]
  },
  {
   "cell_type": "markdown",
   "id": "8512576a",
   "metadata": {},
   "source": [
    "## Loading network\n",
    "*Infomap* is given a network with which to be used on. A `DataFrame` object is used to store information about each uniquely seeded run of *Infomap*."
   ]
  },
  {
   "cell_type": "code",
   "execution_count": 3,
   "id": "7d0b1d7e",
   "metadata": {
    "pycharm": {
     "name": "#%%\n"
    }
   },
   "outputs": [],
   "source": [
    "particle_type = Restricted\n",
    "season = Season.fall\n",
    "markov_time = 2\n",
    "\n",
    "im = infomap.Infomap()\n",
    "im.read_file(str(Path.cwd() / 'network' / particle_type.name / season.name / 'network.txt'))\n",
    "\n",
    "seeds = pd.DataFrame(columns=['codelength', 'modules'])\n",
    "seeds.index.name = 'seed'"
   ]
  },
  {
   "cell_type": "markdown",
   "id": "a5de00a6",
   "metadata": {},
   "source": [
    "## Running *Infomap*\n",
    "Since *Infomap* is a stochastic and recursive heuristic algorithm, results vary by the random seed used. As such, a variety of seeds should be used and then selected from.\n",
    "\n",
    "We give *Infomap* the following specifications:\n",
    "* `-2` for a two-level solution.\n",
    "* `-d` for a directed network.\n",
    "* `-k` to allow for loops (edges relating a vertex to itself).\n",
    "* `-N 20` for 20 outer-most loops to be run before choosing the best network partition.\n",
    "* `--markov-time markov_time` to specify the scale of structures\n",
    "* `-s seed` to specify the random seed to be used"
   ]
  },
  {
   "cell_type": "code",
   "execution_count": 4,
   "id": "92326ced",
   "metadata": {},
   "outputs": [],
   "source": [
    "for seed in range(NUMBER_OF_SEEDS):\n",
    "    # Run 20 outer-most loops of Infomap to find the partition with the smallest codelength\n",
    "    im.run(f'-k -2 -d --markov-time {markov_time} -s {seed} -N 20')\n",
    "    seeds.loc[seed] = [im.codelength, im.num_top_modules]\n",
    "\n",
    "    # Write best partition in .clu format\n",
    "    clu = Path.cwd() / 'network' / particle_type.name / season.name / str(markov_time) / 'clus' / f'seed_{seed}.txt'\n",
    "    im.write_clu(str(clu))"
   ]
  },
  {
   "cell_type": "markdown",
   "id": "334c688b",
   "metadata": {},
   "source": [
    "## Solutions\n",
    "A good solution is indicated by a minimized codelength."
   ]
  },
  {
   "cell_type": "code",
   "execution_count": 5,
   "id": "5b07a73e",
   "metadata": {
    "pycharm": {
     "name": "#%%\n"
    }
   },
   "outputs": [
    {
     "data": {
      "text/html": [
       "<div>\n",
       "<style scoped>\n",
       "    .dataframe tbody tr th:only-of-type {\n",
       "        vertical-align: middle;\n",
       "    }\n",
       "\n",
       "    .dataframe tbody tr th {\n",
       "        vertical-align: top;\n",
       "    }\n",
       "\n",
       "    .dataframe thead th {\n",
       "        text-align: right;\n",
       "    }\n",
       "</style>\n",
       "<table border=\"1\" class=\"dataframe\">\n",
       "  <thead>\n",
       "    <tr style=\"text-align: right;\">\n",
       "      <th></th>\n",
       "      <th>codelength</th>\n",
       "      <th>modules</th>\n",
       "    </tr>\n",
       "    <tr>\n",
       "      <th>seed</th>\n",
       "      <th></th>\n",
       "      <th></th>\n",
       "    </tr>\n",
       "  </thead>\n",
       "  <tbody>\n",
       "    <tr>\n",
       "      <th>0</th>\n",
       "      <td>6.001675</td>\n",
       "      <td>13.0</td>\n",
       "    </tr>\n",
       "    <tr>\n",
       "      <th>1</th>\n",
       "      <td>6.021562</td>\n",
       "      <td>14.0</td>\n",
       "    </tr>\n",
       "    <tr>\n",
       "      <th>2</th>\n",
       "      <td>6.037439</td>\n",
       "      <td>12.0</td>\n",
       "    </tr>\n",
       "    <tr>\n",
       "      <th>3</th>\n",
       "      <td>6.002143</td>\n",
       "      <td>12.0</td>\n",
       "    </tr>\n",
       "    <tr>\n",
       "      <th>4</th>\n",
       "      <td>6.001675</td>\n",
       "      <td>13.0</td>\n",
       "    </tr>\n",
       "    <tr>\n",
       "      <th>...</th>\n",
       "      <td>...</td>\n",
       "      <td>...</td>\n",
       "    </tr>\n",
       "    <tr>\n",
       "      <th>95</th>\n",
       "      <td>6.023113</td>\n",
       "      <td>12.0</td>\n",
       "    </tr>\n",
       "    <tr>\n",
       "      <th>96</th>\n",
       "      <td>6.005448</td>\n",
       "      <td>12.0</td>\n",
       "    </tr>\n",
       "    <tr>\n",
       "      <th>97</th>\n",
       "      <td>6.045717</td>\n",
       "      <td>12.0</td>\n",
       "    </tr>\n",
       "    <tr>\n",
       "      <th>98</th>\n",
       "      <td>6.001375</td>\n",
       "      <td>12.0</td>\n",
       "    </tr>\n",
       "    <tr>\n",
       "      <th>99</th>\n",
       "      <td>6.045460</td>\n",
       "      <td>13.0</td>\n",
       "    </tr>\n",
       "  </tbody>\n",
       "</table>\n",
       "<p>100 rows × 2 columns</p>\n",
       "</div>"
      ],
      "text/plain": [
       "      codelength  modules\n",
       "seed                     \n",
       "0       6.001675     13.0\n",
       "1       6.021562     14.0\n",
       "2       6.037439     12.0\n",
       "3       6.002143     12.0\n",
       "4       6.001675     13.0\n",
       "...          ...      ...\n",
       "95      6.023113     12.0\n",
       "96      6.005448     12.0\n",
       "97      6.045717     12.0\n",
       "98      6.001375     12.0\n",
       "99      6.045460     13.0\n",
       "\n",
       "[100 rows x 2 columns]"
      ]
     },
     "metadata": {},
     "output_type": "display_data"
    },
    {
     "name": "stdout",
     "output_type": "stream",
     "text": [
      "seed(s) of minimum codelength: [27, 44]\n"
     ]
    }
   ],
   "source": [
    "display(seeds)\n",
    "best_seeds = list(seeds.loc[seeds['codelength'] == seeds.min()['codelength']].index)\n",
    "print(f'seed(s) of minimum codelength: {best_seeds}')"
   ]
  }
 ],
 "metadata": {
  "interpreter": {
   "hash": "c8da9a92b92d6ae8dcd8e7f1f74e4c9e7cddd56b941b56532a5d046ea94ffd00"
  },
  "kernelspec": {
   "display_name": "Python 3",
   "language": "python",
   "name": "python3"
  },
  "language_info": {
   "codemirror_mode": {
    "name": "ipython",
    "version": 3
   },
   "file_extension": ".py",
   "mimetype": "text/x-python",
   "name": "python",
   "nbconvert_exporter": "python",
   "pygments_lexer": "ipython3",
   "version": "3.8.10"
  }
 },
 "nbformat": 4,
 "nbformat_minor": 5
}
